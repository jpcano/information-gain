{
 "cells": [
  {
   "cell_type": "code",
   "execution_count": null,
   "metadata": {},
   "outputs": [
    {
     "name": "stdout",
     "output_type": "stream",
     "text": [
      "labels_entropy:  0.9798687566511528\n"
     ]
    }
   ],
   "source": [
    "import numpy as np\n",
    "\n",
    "def two_group_ent(first, tot):  \n",
    "    return -(first / tot * np.log2(first / tot) +\n",
    "             (tot - first) / tot * np.log2((tot - first) / tot))\n",
    "\n",
    "tot_ent = two_group_ent(10, 24)\n",
    "print(\"labels_entropy: \", tot_ent)"
   ]
  },
  {
   "cell_type": "code",
   "execution_count": 2,
   "metadata": {},
   "outputs": [
    {
     "name": "stdout",
     "output_type": "stream",
     "text": [
      "<17 entropy:  0.867261401483663  gain:  0.11260735516748976\n"
     ]
    }
   ],
   "source": [
    "g17_ent = 15 / 24 * two_group_ent(11, 15) + 9 / 24 * two_group_ent(6, 9)\n",
    "print(\"<17 entropy: \", g17_ent, \" gain: \", tot_ent - g17_ent)"
   ]
  },
  {
   "cell_type": "code",
   "execution_count": 3,
   "metadata": {},
   "outputs": [
    {
     "name": "stdout",
     "output_type": "stream",
     "text": [
      "<20 entropy:  0.8791355307646355  gain:  0.10073322588651734\n"
     ]
    }
   ],
   "source": [
    "g20_ent = 17 / 24 * two_group_ent(9, 17) + 7 / 24 * two_group_ent(1, 7)\n",
    "print(\"<20 entropy: \", g20_ent, \" gain: \", tot_ent - g20_ent)"
   ]
  },
  {
   "cell_type": "code",
   "execution_count": 4,
   "metadata": {},
   "outputs": [
    {
     "name": "stdout",
     "output_type": "stream",
     "text": [
      "blue entropy:  0.979279160376092  gain:  0.000589596275060833\n"
     ]
    }
   ],
   "source": [
    "blue_ent = 10 / 24 * two_group_ent(6, 10) + 14 / 24 * two_group_ent(8, 14)\n",
    "print(\"blue entropy: \", blue_ent, \" gain: \", tot_ent - blue_ent)"
   ]
  },
  {
   "cell_type": "code",
   "execution_count": 5,
   "metadata": {},
   "outputs": [
    {
     "name": "stdout",
     "output_type": "stream",
     "text": [
      "brown entropy:  0.9182958340544896  gain:  0.06157292259666325\n"
     ]
    }
   ],
   "source": [
    "brown_ent = 6 / 24 * two_group_ent(2, 6) + 18 / 24 * two_group_ent(12, 18)\n",
    "print(\"brown entropy: \", brown_ent, \" gain: \", tot_ent - brown_ent)"
   ]
  },
  {
   "cell_type": "code",
   "execution_count": 6,
   "metadata": {},
   "outputs": [
    {
     "name": "stdout",
     "output_type": "stream",
     "text": [
      "green entropy:  0.9370927081530442  gain:  0.042776048498108565\n"
     ]
    }
   ],
   "source": [
    "green_ent = 8 / 24 * two_group_ent(2, 8) + 16 / 24 * two_group_ent(8, 16)\n",
    "print(\"green entropy: \", green_ent, \" gain: \", tot_ent - green_ent)"
   ]
  }
 ],
 "metadata": {
  "kernelspec": {
   "display_name": "Python 3",
   "language": "python",
   "name": "python3"
  },
  "language_info": {
   "codemirror_mode": {
    "name": "ipython",
    "version": 3
   },
   "file_extension": ".py",
   "mimetype": "text/x-python",
   "name": "python",
   "nbconvert_exporter": "python",
   "pygments_lexer": "ipython3",
   "version": "3.10.12"
  }
 },
 "nbformat": 4,
 "nbformat_minor": 2
}
